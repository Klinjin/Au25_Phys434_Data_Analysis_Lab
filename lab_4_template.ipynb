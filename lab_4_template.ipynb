{
 "cells": [
  {
   "cell_type": "markdown",
   "id": "34ce84d3",
   "metadata": {},
   "source": [
    "# Lab 4: Maximum Likelihood Estimation\n",
    "\n",
    "**Author:** [YOUR NAME]\n",
    "\n",
    "**Course:** Physics 434 - Data Analysis Lab  \n",
    "**Objective:** Practice different estimation methods to find the best PDF for mass distribution data\n",
    "\n",
    "In this lab, we will analyze a mass distribution dataset using the **Cauchy distribution** (also known as Lorentz or Breit-Wigner distribution). The Cauchy distribution has two parameters:\n",
    "- **Location parameter (m)**: central mass value\n",
    "- **Scale parameter (Γ)**: width of the distribution\n",
    "\n",
    "**Documentation:** [scipy.stats.cauchy](https://docs.scipy.org/doc/scipy/reference/generated/scipy.stats.cauchy.html)"
   ]
  },
  {
   "cell_type": "markdown",
   "id": "9d3bb9dc",
   "metadata": {},
   "source": [
    "## Setup and Data"
   ]
  },
  {
   "cell_type": "code",
   "execution_count": null,
   "id": "a34a3212",
   "metadata": {},
   "outputs": [],
   "source": [
    "# Import required libraries\n",
    "# import numpy as np\n",
    "# import matplotlib.pyplot as plt\n",
    "# from scipy.optimize import minimize\n",
    "# from scipy.stats import cauchy\n",
    "# ..."
   ]
  },
  {
   "cell_type": "code",
   "execution_count": null,
   "id": "1d45c419",
   "metadata": {},
   "outputs": [],
   "source": [
    "# Mass distribution dataset (Units: GeV)\n",
    "mass = [7.95442531, 10.60408232, 9.9020277, 10.42288788, 17.2193401, 10.06076572,\n",
    "        10.00176003, 7.8289388, 9.55481385, 9.99981543, 10.3156156, 10.70547087,\n",
    "        9.80374407, 7.62085689, 9.60747351]"
   ]
  },
  {
   "cell_type": "markdown",
   "id": "462228ba",
   "metadata": {},
   "source": [
    "**Your theoretical prediciton**\n",
    "- What Cauchy distribution is it? Try many centers and widths to match the data!"
   ]
  },
  {
   "cell_type": "markdown",
   "id": "b95cb8e7",
   "metadata": {},
   "source": [
    "# Task 1: Visualization (3 points)\n",
    "\n",
    "Create two types of visualizations for the mass distribution data."
   ]
  },
  {
   "cell_type": "markdown",
   "id": "2826a324",
   "metadata": {},
   "source": [
    "## Part (a): Unbinned Distribution\n",
    "\n",
    "Draw the unbinned mass distribution showing individual data points as a scatter plot."
   ]
  },
  {
   "cell_type": "code",
   "execution_count": null,
   "id": "9f048f68",
   "metadata": {},
   "outputs": [],
   "source": [
    "# TODO: Create a scatter plot showing individual mass measurements\n"
   ]
  },
  {
   "cell_type": "markdown",
   "id": "ad026e19",
   "metadata": {},
   "source": [
    "## Part (b): Binned Distribution with Error Bars\n",
    "\n",
    "Create a histogram with bin size 0.5 GeV (range 0-20 GeV) including Poisson error bars."
   ]
  },
  {
   "cell_type": "code",
   "execution_count": null,
   "id": "034deb8d",
   "metadata": {},
   "outputs": [],
   "source": [
    "# TODO: Create histogram with error bars (use sqrt(N) for Poisson errors) \n",
    "# TODO: Overplot your theoretical Cauchy PDF match histogram (scales from probability to expected counts per bin)"
   ]
  },
  {
   "cell_type": "markdown",
   "id": "39b633b0",
   "metadata": {},
   "source": [
    "# Task 2: Maximum Likelihood Estimation (4 points)\n",
    "\n",
    "Use maximum likelihood estimation to find the best-fit parameters for the Cauchy distribution."
   ]
  },
  {
   "cell_type": "markdown",
   "id": "18ba201a",
   "metadata": {},
   "source": [
    "## Part (a): Negative Log-Likelihood Function\n",
    "\n",
    "Construct an unbinned negative log-likelihood function that returns -2*log(L) for the Cauchy distribution."
   ]
  },
  {
   "cell_type": "code",
   "execution_count": null,
   "id": "39b23aca",
   "metadata": {},
   "outputs": [],
   "source": [
    "# TODO: Create your NLL function. HINT: Calculate log-likelihood using scipy.stats.cauchy.logpdf\n"
   ]
  },
  {
   "cell_type": "markdown",
   "id": "171a572e",
   "metadata": {},
   "source": [
    "## Part (b): Parameter Space Scanning\n",
    "\n",
    "Perform a grid search over the (mass, width) parameter space to find the minimum NLL."
   ]
  },
  {
   "cell_type": "code",
   "execution_count": null,
   "id": "b30844ff",
   "metadata": {},
   "outputs": [],
   "source": [
    "# TODO: Define parameter ranges\n",
    "mass_range = # TODO: Create range around expected mass value\n",
    "width_range = # TODO: Create range for width parameter\n",
    "\n",
    "# TODO: Create parameter grids using np.meshgrid\n",
    "\n",
    "# TODO: Calculate NLL for each parameter combination\n",
    "\n",
    "# TODO: Find minimum and extract best-fit parameters"
   ]
  },
  {
   "cell_type": "markdown",
   "id": "031971c1",
   "metadata": {},
   "source": [
    "## Part (c): 2D Contour Plot\n",
    "\n",
    "Create a 2D contour plot showing the NLL landscape with contour levels up to min_nll + 5."
   ]
  },
  {
   "cell_type": "code",
   "execution_count": null,
   "id": "0b9d7bb5",
   "metadata": {},
   "outputs": [],
   "source": [
    "# TODO: Create 2D contour plot of NLL\n",
    "# TODO: Mark the minimum point\n",
    "# TODO: Add appropriate labels and colorbar"
   ]
  },
  {
   "cell_type": "markdown",
   "id": "5dabd0f4",
   "metadata": {},
   "source": [
    "## Bonus: 3D Surface Plot (2 points)\n"
   ]
  },
  {
   "cell_type": "code",
   "execution_count": null,
   "id": "c60285d6",
   "metadata": {},
   "outputs": [],
   "source": []
  },
  {
   "cell_type": "markdown",
   "id": "231ffc9b",
   "metadata": {},
   "source": [
    "## Part (d): Data with Best-Fit PDF\n",
    "\n",
    "Plot the histogram overlaid with the theoretical Cauchy distribution using best-fit parameters."
   ]
  },
  {
   "cell_type": "code",
   "execution_count": null,
   "id": "47fc5b90",
   "metadata": {},
   "outputs": [],
   "source": [
    "# TODO: Plot histogram of data\n",
    "# TODO: Calculate and plot theoretical PDF using best-fit parameters\n",
    "# TODO: Scale PDF to match histogram (scales from probability to expected counts per bin)"
   ]
  },
  {
   "cell_type": "markdown",
   "id": "6ea81431",
   "metadata": {},
   "source": [
    "# Task 3: Maximum Likelihood vs Chi-squared Method (3 points)\n",
    "\n",
    "Compare maximum likelihood and chi-squared fitting methods by fixing the width parameter."
   ]
  },
  {
   "cell_type": "markdown",
   "id": "db125fc7",
   "metadata": {},
   "source": [
    "## Part (a): Likelihood Profile\n",
    "\n",
    "Plot -2logL/L_max as a function of mass parameter with fixed width."
   ]
  },
  {
   "cell_type": "code",
   "execution_count": null,
   "id": "bbcc6fec",
   "metadata": {},
   "outputs": [],
   "source": [
    "# TODO: Fix width to your best-fit value\n",
    "# TODO: Scan mass parameter and calculate NLL profile\n",
    "# TODO: Normalize by minimum and plot"
   ]
  },
  {
   "cell_type": "markdown",
   "id": "88d421b1",
   "metadata": {},
   "source": [
    "## Part (b): Chi-squared Method\n",
    "\n",
    "Construct and minimize the chi-squared function for binned data."
   ]
  },
  {
   "cell_type": "code",
   "execution_count": null,
   "id": "b079f30a",
   "metadata": {},
   "outputs": [],
   "source": [
    "# TODO: Create your chi-squared function. Scan mass parameter for chi-squared\n",
    "# TODO: Calculate Δχ² = χ²(m) - χ²_min"
   ]
  },
  {
   "cell_type": "markdown",
   "id": "0ceb6d69",
   "metadata": {},
   "source": [
    "## Part (c): Method Comparison\n",
    "\n",
    "Compare maximum likelihood and chi-squared methods by plotting both profiles."
   ]
  },
  {
   "cell_type": "code",
   "execution_count": null,
   "id": "36a4f8de",
   "metadata": {},
   "outputs": [],
   "source": [
    "# TODO: Plot both curves on same axes\n",
    "# - blue: Maximum Likelihood \n",
    "# - orange: Chi-squared\n",
    "# TODO: Compare the shape and minimum positions\n",
    "# TODO: Add observations about which method is more precise"
   ]
  },
  {
   "cell_type": "markdown",
   "id": "cf17211f",
   "metadata": {},
   "source": [
    "# Bonus: Using iminuit Package (3 points)\n",
    "\n",
    "Use the iminuit package for professional maximum likelihood fitting."
   ]
  },
  {
   "cell_type": "code",
   "execution_count": null,
   "id": "3e93ab50",
   "metadata": {},
   "outputs": [],
   "source": [
    "# TODO: Install and import iminuit\n",
    "try:\n",
    "    from iminuit import Minuit\n",
    "    from iminuit.cost import UnbinnedNLL\n",
    "    print(\"iminuit imported successfully!\")\n",
    "    IMINUIT_AVAILABLE = True\n",
    "except ImportError:\n",
    "    # print(\"Installing iminuit...\")\n",
    "    import subprocess\n",
    "    import sys\n",
    "    subprocess.check_call([sys.executable, \"-m\", \"pip\", \"install\", \"iminuit\"])\n",
    "    from iminuit import Minuit\n",
    "    from iminuit.cost import UnbinnedNLL\n",
    "    IMINUIT_AVAILABLE = True"
   ]
  },
  {
   "cell_type": "markdown",
   "id": "c9210fb5",
   "metadata": {},
   "source": [
    "## Implementation with iminuit\n",
    "\n",
    "Use the iminuit package for professional maximum likelihood fitting with parameter errors."
   ]
  },
  {
   "cell_type": "code",
   "execution_count": null,
   "id": "4eddd2ba",
   "metadata": {},
   "outputs": [],
   "source": [
    "# TODO: Define Cauchy PDF for iminuit\n",
    "# TODO: Set up unbinned negative log-likelihood cost function\n",
    "# TODO: Create Minuit object with initial parameter guesses\n",
    "# TODO: Run the fit using migrad() and hesse()\n",
    "\n",
    "\n",
    "\n",
    "# TODO: Display fit results in the histogram with parameter errors"
   ]
  },
  {
   "cell_type": "markdown",
   "id": "2cecd805",
   "metadata": {},
   "source": [
    "# Discussion and Analysis\n",
    "\n",
    "**Answer the following questions based on your results:**\n",
    "\n",
    "\n",
    "## Task 2 Discussion: Maximum Likelihood Estimation\n",
    "\n",
    "**Question 1:** Analyze your NLL contour plots and parameter estimation results. What does the shape of the contours tell you about parameter correlations? How sensitive is the fit to small changes in the mass and width parameters? Compare your best-fit parameters to your initial theoretical prediction from Task 1.\n",
    "\n",
    "**Your Answer:**\n",
    "\n",
    "---\n",
    "\n",
    "## Task 3 Discussion: Method Comparison\n",
    "\n",
    "**Question 2:** Compare the likelihood profile and chi-squared methods. Which method gave a more precise estimate of the mass parameter? How do the shapes of the two curves differ near the minimum? Explain why the maximum likelihood method is generally preferred for small datasets like ours (15 data points).\n",
    "\n",
    "**Your Answer:**\n",
    "\n",
    "---\n",
    "\n",
    "## Model Comparison and Overall Analysis\n",
    "\n",
    "**Question 3:** Compare all the fitting approaches you used (manual grid search, scipy optimization, and iminuit if completed). Did they all converge to the same parameter values? Which method was most efficient? Which provided the most complete uncertainty information?\n",
    "\n",
    "**Your Answer:**\n"
   ]
  },
  {
   "cell_type": "markdown",
   "id": "de5e19a2",
   "metadata": {},
   "source": [
    "## Submission Instructions\n",
    "\n",
    "> **📋 Important Notice:** When you have completed all sections of this lab, please download your notebook as an HTML file for submission on Canvas.\n",
    "> \n",
    "> **To download as HTML:**\n",
    "> 1. Go to **File** → **Download as** → **HTML (.html)**\n",
    "> 2. Save the file with a descriptive name (e.g., `Lab4_YourName.html`)\n",
    "> 3. Upload the HTML file to the corresponding Canvas assignment\n",
    "> \n",
    "> Make sure all cells have been executed and all outputs are visible before downloading!"
   ]
  },
  {
   "cell_type": "markdown",
   "id": "deaa5a70",
   "metadata": {},
   "source": []
  }
 ],
 "metadata": {
  "language_info": {
   "name": "python"
  }
 },
 "nbformat": 4,
 "nbformat_minor": 5
}
