{
  "cells": [
    {
      "cell_type": "markdown",
      "metadata": {
        "id": "view-in-github",
        "colab_type": "text"
      },
      "source": [
        "<a href=\"https://colab.research.google.com/github/amf599-cyber/Au25_Phys434_Data_Analysis_Lab/blob/main/LAB1/lab_1_AlexFeucht.ipynb\" target=\"_parent\"><img src=\"https://colab.research.google.com/assets/colab-badge.svg\" alt=\"Open In Colab\"/></a>"
      ]
    },
    {
      "cell_type": "markdown",
      "id": "353b928b",
      "metadata": {
        "id": "353b928b"
      },
      "source": [
        "# Lab 1: Data Analysis with HTRU2 Dataset\n",
        "\n",
        "**Author:** Alex Feucht, editing template from Linda Jin  \n",
        "**Course:** Physics 434 - Data Analysis Lab  \n",
        "**Objective:** Learn statistical analysis, probability calculations, and data visualization using real pulsar survey data."
      ]
    },
    {
      "cell_type": "markdown",
      "id": "1ba63461",
      "metadata": {
        "id": "1ba63461"
      },
      "source": [
        "## Overview\n",
        "\n",
        "In this laboratory, we will:\n",
        "1. Set up git & GitHub for version control\n",
        "2. Analyze pulsar candidates from the High Time Resolution Universe Survey (HTRU2) dataset\n",
        "3. Practice statistical analysis and probability calculations\n",
        "4. Create data visualizations and interpret results\n",
        "\n",
        "**Key Learning Outcomes:**\n",
        "- Understanding of statistical distributions\n",
        "- Bayes' theorem application\n",
        "- Data visualization with histograms\n",
        "- Probability calculations with real data"
      ]
    },
    {
      "cell_type": "markdown",
      "id": "49620ef8",
      "metadata": {
        "id": "49620ef8"
      },
      "source": [
        "## Step 1: Import Required Libraries\n",
        "\n",
        "Import the necessary Python libraries for data analysis and visualization."
      ]
    },
    {
      "cell_type": "markdown",
      "id": "a5ffc5a4",
      "metadata": {
        "id": "a5ffc5a4"
      },
      "source": [
        "**TODO:** Import pandas, matplotlib.pyplot, numpy, and scipy.stats"
      ]
    },
    {
      "cell_type": "markdown",
      "id": "5a4c21b7",
      "metadata": {
        "id": "5a4c21b7"
      },
      "source": [
        "`COLAB` determines whether this notebook is running on Google Colab. If you're running locally, make sure to download all data in this work directory."
      ]
    },
    {
      "cell_type": "code",
      "execution_count": 1,
      "id": "82eb1216",
      "metadata": {
        "colab": {
          "base_uri": "https://localhost:8080/"
        },
        "id": "82eb1216",
        "outputId": "3ef16667-86a7-4f43-dd7e-9eb7874f67ea"
      },
      "outputs": [
        {
          "output_type": "stream",
          "name": "stdout",
          "text": [
            "Cloning into 'Au25_Phys434_Data_Analysis_Lab'...\n",
            "remote: Enumerating objects: 13, done.\u001b[K\n",
            "remote: Counting objects: 100% (13/13), done.\u001b[K\n",
            "remote: Compressing objects: 100% (12/12), done.\u001b[K\n",
            "remote: Total 13 (delta 2), reused 7 (delta 1), pack-reused 0 (from 0)\u001b[K\n",
            "Receiving objects: 100% (13/13), 859.80 KiB | 8.19 MiB/s, done.\n",
            "Resolving deltas: 100% (2/2), done.\n",
            "/content/Au25_Phys434_Data_Analysis_Lab\n"
          ]
        }
      ],
      "source": [
        "# from google.colab import drive\n",
        "# drive.mount('/content/drive')\n",
        "COLAB = 'google.colab' in str(get_ipython())\n",
        "\n",
        "if COLAB:\n",
        "# clone github repo\n",
        "  !git clone --depth 1 https://github.com/amf599-cyber/Au25_Phys434_Data_Analysis_Lab.git\n",
        "  %cd Au25_Phys434_Data_Analysis_Lab/"
      ]
    },
    {
      "cell_type": "code",
      "execution_count": 2,
      "id": "91ba7889",
      "metadata": {
        "id": "91ba7889"
      },
      "outputs": [],
      "source": [
        "# TODO: Import the required libraries\n",
        "# Hint: You'll need pandas, matplotlib.pyplot, numpy, and scipy.stats, from scipy.stats import norm (used later)\n",
        "\n",
        "# Your imports here:\n",
        "import pandas as pd\n",
        "import matplotlib.pyplot as plt\n",
        "import numpy as np\n",
        "import scipy.stats as stats\n",
        "from scipy.stats import norm"
      ]
    },
    {
      "cell_type": "markdown",
      "id": "f595f756",
      "metadata": {
        "vscode": {
          "languageId": "plaintext"
        },
        "id": "f595f756"
      },
      "source": [
        "## Step 2: Load and Explore the Dataset\n",
        "\n",
        "The HTRU2 dataset contains 17,898 pulsar candidates with 8 features each. The last column indicates the class:\n",
        "- **Class 0**: RFI/Noise (fake signals)\n",
        "- **Class 1**: Real pulsar signals\n",
        "\n",
        "**Features (first 4 are from integrated pulse profile):**\n",
        "1. Mean of the integrated profile\n",
        "2. Standard deviation of the integrated profile  \n",
        "3. Excess kurtosis of the integrated profile\n",
        "4. Skewness of the integrated profile\n",
        "5-8. Mean, std dev, excess kurtosis, and skewness of the DM-SNR curve"
      ]
    },
    {
      "cell_type": "markdown",
      "id": "0fee5a06",
      "metadata": {
        "id": "0fee5a06"
      },
      "source": [
        "**TODO:** Load the dataset and separate it into two classes"
      ]
    },
    {
      "cell_type": "code",
      "source": [
        "# Load the HTRU2 dataset\n",
        "# TODO: Read the CSV file using pandas\n",
        "# df = pd.read_csv(...)\n",
        "\n",
        "# Separate the data into two classes based on the last column\n",
        "# TODO: Create class_0_data (RFI/Noise) and class_1_data (Real Pulsar)\n",
        "# Hint: Use boolean indexing with df.iloc[:, -1]\n",
        "\n",
        "# pulsar_data =\n",
        "# noise_data =\n",
        "\n",
        "# Print the number of samples in each class\n",
        "# TODO: Print the lengths of both classes\n",
        "\n",
        "# Your code here:"
      ],
      "metadata": {
        "id": "1TOmMrVp7QSg"
      },
      "id": "1TOmMrVp7QSg",
      "execution_count": 3,
      "outputs": []
    },
    {
      "cell_type": "code",
      "execution_count": 4,
      "id": "3ddb9c89",
      "metadata": {
        "colab": {
          "base_uri": "https://localhost:8080/"
        },
        "id": "3ddb9c89",
        "outputId": "0b9e51bc-a5db-405b-e7b5-742aea4ffbf7"
      },
      "outputs": [
        {
          "output_type": "stream",
          "name": "stdout",
          "text": [
            "Number of samples in class 0 (RFI/Noise): 16259\n",
            "Number of samples in class 1 (Real Pulsar): 1639\n",
            "Total samples: 17898\n"
          ]
        }
      ],
      "source": [
        "# Read in the HTRU data set (has no header, all data)\n",
        "df = pd.read_csv('htru2/HTRU_2.csv', header=None)\n",
        "\n",
        "# Define the column names to use for readability\n",
        "column_names = [\n",
        "    \"Mean of the integrated profile\",\n",
        "    \"Standard deviation of the integrated profile\",\n",
        "    \"Excess kurtosis of the integrated profile\",\n",
        "    \"Skewness of the integrated profile\",\n",
        "    \"Mean of the DM-SNR curve\",\n",
        "    \"Standard deviation of the DM-SNR curve\",\n",
        "    \"Excess kurtosis of the DM-SNR curve\",\n",
        "    \"Skewness of the DM-SNR curve\",\n",
        "    \"Classification\"\n",
        "]\n",
        "\n",
        "# Append data with listed column names\n",
        "df.columns = column_names\n",
        "\n",
        "# Display the first few rows with the new headers (for testing)\n",
        "# display(df.head())\n",
        "\n",
        "# Separate the data into two classes based on the last column\n",
        "pulsar_data = df[df.iloc[:, -1] == 1]\n",
        "noise_data = df[df.iloc[:, -1] == 0]\n",
        "\n",
        "# Print the readouts of the last column counts\n",
        "print(f\"Number of samples in class 0 (RFI/Noise): {len(noise_data)}\")\n",
        "print(f\"Number of samples in class 1 (Real Pulsar): {len(pulsar_data)}\")\n",
        "print(f\"Total samples: {len(noise_data)+len(pulsar_data)}\")"
      ]
    },
    {
      "cell_type": "markdown",
      "id": "32de45e4",
      "metadata": {
        "id": "32de45e4"
      },
      "source": [
        "## Step 3: Feature Analysis and Visualization\n",
        "\n",
        "**Objective:** Compare the distribution of features between RFI/noise and real pulsar signals.\n",
        "\n",
        "**Requirements:**\n",
        "- Create histograms for each feature (focus on the first 4 features from integrated pulse profile)\n",
        "- Plot both classes on the same graph with different colors and line styles\n",
        "- Normalize histograms so the area equals 1 (use `density=True`)\n",
        "- Use the same bin ranges and widths for fair comparison\n",
        "- Include mean and standard deviation in legends\n",
        "- Proper axis labels and titles"
      ]
    },
    {
      "cell_type": "markdown",
      "id": "e243f65b",
      "metadata": {
        "id": "e243f65b"
      },
      "source": [
        "**TODO:** Create histograms comparing the two classes for each feature"
      ]
    },
    {
      "cell_type": "code",
      "source": [
        "# Create histograms for the first 4 features (integrated pulse profile features)\n",
        "\n",
        "# TODO: Loop through the first 4 columns of the dataset\n",
        "# for i, feature_name in enumerate(df.columns): noise_feature = noise_data[feature_name]\n",
        "#     noise_feature = noise_data[feature_name]\n",
        "#     pulsar_feature = pulsar_data[feature_name]\n",
        "#\n",
        "#     # Create figure\n",
        "#     fig, ax = plt.subplots(figsize=(10, 6))\n",
        "#     ax.hist(noise_feature ...\n",
        "#     ax.hist(pulsar_feature ...\n",
        "#     ax.set_title(f\"Histogram of {feature_name}\")\n",
        "#     ax.set_xlabel(\"Value\")\n",
        "#     ax.set_ylabel(\"Frequency\")\n",
        "#     ax.legend()\n",
        "#     plt.show()\n",
        "#     pass  # Remove this line when you add your code\n",
        "\n",
        "# Your code here:"
      ],
      "metadata": {
        "id": "gGj9c-WE7Xjh"
      },
      "id": "gGj9c-WE7Xjh",
      "execution_count": 5,
      "outputs": []
    },
    {
      "cell_type": "code",
      "execution_count": 6,
      "id": "84c2f0f5",
      "metadata": {
        "id": "84c2f0f5",
        "colab": {
          "base_uri": "https://localhost:8080/",
          "height": 1000
        },
        "outputId": "9603c595-2766-4f5d-efc8-21aa80e29b4d"
      },
      "outputs": [
        {
          "output_type": "display_data",
          "data": {
            "text/plain": [
              "<Figure size 1000x600 with 1 Axes>"
            ],
            "image/png": "[encoded data removed]"
          },
          "metadata": {}
        },
        {
          "output_type": "display_data",
          "data": {
            "text/plain": [
              "<Figure size 1000x600 with 1 Axes>"
            ],
            "image/png": "[encoded data removed]"
          },
          "metadata": {}
        },
        {
          "output_type": "display_data",
          "data": {
            "text/plain": [
              "<Figure size 1000x600 with 1 Axes>"
            ],
            "image/png": "[encoded data removed]"
          },
          "metadata": {}
        },
        {
          "output_type": "display_data",
          "data": {
            "text/plain": [
              "<Figure size 1000x600 with 1 Axes>"
            ],
            "image/png": "[encoded data removed]"
          },
          "metadata": {}
        }
      ],
      "source": [
        "# Creates a for loop to read only data in the first 4 columns into histogram plots\n",
        "for i, feature_name in enumerate(df.columns[:4]):\n",
        "  noise_feature = noise_data[feature_name]\n",
        "  pulsar_feature = pulsar_data[feature_name]\n",
        "\n",
        "  # Create figures\n",
        "  fig, ax = plt.subplots(figsize=(10, 6))\n",
        "  ax.hist(noise_feature, density=True, label=f'RFI/Noise')\n",
        "  ax.hist(pulsar_feature, density=True, alpha=0.6, label=f'Real Pulsar')\n",
        "  ax.set_title(f\"Histogram of {feature_name}\")\n",
        "  ax.set_xlabel(\"Value\")\n",
        "  ax.set_ylabel(\"Frequency\")\n",
        "  ax.legend()\n",
        "  plt.show()"
      ]
    },
    {
      "cell_type": "markdown",
      "id": "d98fce6a",
      "metadata": {
        "id": "d98fce6a"
      },
      "source": [
        "## Step 4: Probability Calculations\n",
        "\n",
        "**Objective:** Calculate basic probabilities and apply Bayes' theorem.\n",
        "\n",
        "**Define Events:**\n",
        "- **Event A:** An observation is a pulsar candidate (class = 1)\n",
        "- **Event B:** Mean of the integrated profile < 80\n",
        "\n",
        "**Calculate the following probabilities:**\n",
        "1. P(A) - Probability that a randomly chosen observation is a real pulsar\n",
        "2. P(B) - Probability that mean of integrated profile < 80\n",
        "3. P(A ∩ B) - Probability that both conditions are satisfied"
      ]
    },
    {
      "cell_type": "markdown",
      "id": "0166bbdc",
      "metadata": {
        "id": "0166bbdc"
      },
      "source": [
        "**TODO:** Calculate the three basic probabilities"
      ]
    },
    {
      "cell_type": "code",
      "source": [
        "# Calculate P(A): Probability that an observation is a pulsar candidate\n",
        "# TODO: Calculate the ratio of class 1 samples to total samples\n",
        "\n",
        "# Calculate P(B): Probability that mean of integrated profile < 80\n",
        "# TODO: Count how many samples have the first feature < 80\n",
        "# Hint: Use boolean indexing on df.iloc[:, 0] < 80\n",
        "\n",
        "# Calculate P(A ∩ B): Probability that both conditions are satisfied\n",
        "# TODO: Count samples that are both class 1 AND have first feature < 80\n",
        "# Hint: Filter class_1_data where first column < 80\n",
        "\n",
        "# Your code here:"
      ],
      "metadata": {
        "id": "S1YhwzmR7cIA"
      },
      "id": "S1YhwzmR7cIA",
      "execution_count": 7,
      "outputs": []
    },
    {
      "cell_type": "code",
      "execution_count": 8,
      "id": "7b3cd167",
      "metadata": {
        "id": "7b3cd167",
        "colab": {
          "base_uri": "https://localhost:8080/"
        },
        "outputId": "0f2b0d89-e57b-44b9-b59e-130dd0f85eec"
      },
      "outputs": [
        {
          "output_type": "stream",
          "name": "stdout",
          "text": [
            "P(A) =  0.09157447759526204\n",
            "P(B) =  0.08626662196893507\n",
            "P(A ∩ B) =  0.007899820840713185\n"
          ]
        }
      ],
      "source": [
        "# pulsar_probability = Pulsar Sample Number / Total Sample Number\n",
        "pulsar_probability = len(pulsar_data) / len(df)\n",
        "print(\"P(A) = \", pulsar_probability)\n",
        "\n",
        "# count_less_than_80 = length of all samples with the column value [0] with boolean index less than 80\n",
        "count_less_than_80 = len(df[df.iloc[:, 0] < 80])\n",
        "\n",
        "# prob_less_than_80 = the number of samples less than 80 divided by total number of samples\n",
        "prob_less_than_80 = count_less_than_80 / len(df)\n",
        "print(\"P(B) = \", prob_less_than_80)\n",
        "\n",
        "# prob_both_conditions = probaility of pulsars * probability of mean integrated < 80\n",
        "prob_both_conditions = pulsar_probability * prob_less_than_80\n",
        "print(\"P(A ∩ B) = \", prob_both_conditions)"
      ]
    },
    {
      "cell_type": "markdown",
      "id": "754e6ebf",
      "metadata": {
        "id": "754e6ebf"
      },
      "source": [
        "## Step 5: Conditional Probabilities (Bayes' Theorem)\n",
        "\n",
        "**Objective:** Calculate conditional probabilities using Bayes' theorem.\n",
        "\n",
        "**Bayes' Theorem Formula:**\n",
        "$$P(A|B) = \\frac{P(A \\cap B)}{P(B)}$$\n",
        "\n",
        "**Calculate:**\n",
        "1. **P(A|B)**: Given that mean of integrated profile < 80, what's the probability it's a real pulsar?\n",
        "2. **P(B|A)**: Given that it's a real pulsar, what's the probability that mean < 80?"
      ]
    },
    {
      "cell_type": "markdown",
      "id": "6eab444a",
      "metadata": {
        "id": "6eab444a"
      },
      "source": [
        "**TODO:** Apply Bayes' theorem to calculate conditional probabilities"
      ]
    },
    {
      "cell_type": "code",
      "source": [
        "# TODO: Calculate P(A|B) = P(A ∩ B) / P(B)\n",
        "# This answers: \"Given mean < 80, what's the probability it's a real pulsar?\"\n",
        "\n",
        "# TODO: Calculate P(B|A) = P(A ∩ B) / P(A)\n",
        "# This answers: \"Given it's a real pulsar, what's the probability that mean < 80?\"\n",
        "\n",
        "# Your code here:"
      ],
      "metadata": {
        "id": "9Xqtk3o470m4"
      },
      "id": "9Xqtk3o470m4",
      "execution_count": 9,
      "outputs": []
    },
    {
      "cell_type": "code",
      "execution_count": 10,
      "id": "26fd1ea4",
      "metadata": {
        "id": "26fd1ea4",
        "colab": {
          "base_uri": "https://localhost:8080/"
        },
        "outputId": "c579d6ad-30a9-4ff9-877d-730fabd6da32"
      },
      "outputs": [
        {
          "output_type": "stream",
          "name": "stdout",
          "text": [
            "P(A | B) = P(A ∩ B) / P(B) =  0.09157447759526204\n",
            "P(B | A) = P(A ∩ B) / P(A) =  0.08626662196893507\n"
          ]
        }
      ],
      "source": [
        "# conditional_prob_A_given_B = Probability of both / probability < 80\n",
        "conditional_prob_A_given_B = prob_both_conditions / prob_less_than_80\n",
        "print('P(A | B) = P(A ∩ B) / P(B) = ', conditional_prob_A_given_B)\n",
        "\n",
        "# conditional_prob_B_given_A = Probability of both / probability sample is pulsar\n",
        "conditional_prob_B_given_A = prob_both_conditions / pulsar_probability\n",
        "print('P(B | A) = P(A ∩ B) / P(A) = ', conditional_prob_B_given_A)"
      ]
    },
    {
      "cell_type": "markdown",
      "id": "218e48c8",
      "metadata": {
        "id": "218e48c8"
      },
      "source": [
        "## Step 6: Standard Normal Distribution Analysis\n",
        "\n",
        "**Objective:** Understand different types of probabilities for the standard normal distribution.\n",
        "\n",
        "**Background:**\n",
        "The standard normal distribution (Z) has mean = 0 and standard deviation = 1.\n",
        "For any Z-score, we can calculate:\n",
        "1. **Cumulative probability (CDF)**: P(Z ≤ z) - probability below z\n",
        "2. **Cumulative from mean**: P(0 ≤ Z ≤ z) - probability between mean and z  \n",
        "3. **Complementary cumulative**: P(Z > z) - probability above z\n",
        "\n",
        "**Formula:** If X ~ N(μ, σ²), then Z = (X - μ)/σ"
      ]
    },
    {
      "cell_type": "markdown",
      "id": "4afb6c87",
      "metadata": {
        "id": "4afb6c87"
      },
      "source": [
        "**TODO:** Calculate probabilities for different Z-values"
      ]
    },
    {
      "cell_type": "code",
      "source": [
        "# Calculate different types of probabilities for Z-values\n",
        "# TODO: Print results in a formatted way\n",
        "# for Z, CDF, cumulative_prob_from_mean, complementary_CDF in results:\n",
        "#     print(f\"Z = {Z}:\")\n",
        "#     print(f\"Cumulative Probability (CDF) = {CDF}\")\n",
        "#     print(f\"Cumulative Probability from Mean = {cumulative_prob_from_mean}\")\n",
        "#     print(f\"Complementary Cumulative Probability (1 - CDF) = {complementary_CDF}\\n\")\n",
        "# Your code here:"
      ],
      "metadata": {
        "id": "c15Ci3pf-X6g"
      },
      "id": "c15Ci3pf-X6g",
      "execution_count": 11,
      "outputs": []
    },
    {
      "cell_type": "code",
      "execution_count": 12,
      "id": "6933f483",
      "metadata": {
        "id": "6933f483",
        "colab": {
          "base_uri": "https://localhost:8080/"
        },
        "outputId": "bd3c39bf-a147-48e9-f1ed-1539c84199d2"
      },
      "outputs": [
        {
          "output_type": "stream",
          "name": "stdout",
          "text": [
            "Z = 1:\n",
            "Cumulative Probability (CDF) = 0.8413447460685429\n",
            "Cumulative Probability from Mean = 0.07932762696572854\n",
            "Complementary Cumulative Probability (1 - CDF) = 0.15865525393145707\n",
            "\n",
            "Z = 3:\n",
            "Cumulative Probability (CDF) = 0.9986501019683699\n",
            "Cumulative Probability from Mean = 0.0006749490158150517\n",
            "Complementary Cumulative Probability (1 - CDF) = 0.0013498980316301035\n",
            "\n",
            "Z = 5:\n",
            "Cumulative Probability (CDF) = 0.9999997133484281\n",
            "Cumulative Probability from Mean = 1.433257859617676e-07\n",
            "Complementary Cumulative Probability (1 - CDF) = 2.866515719235352e-07\n",
            "\n"
          ]
        }
      ],
      "source": [
        "# Define Z-values to analyze\n",
        "Z_values = [1, 3, 5]\n",
        "mu = 0\n",
        "standDev = 1\n",
        "\n",
        "# TODO: Create an empty list to store results\n",
        "results = []\n",
        "\n",
        "# TODO: Loop through each Z value and calculate:\n",
        "for Z in Z_values:\n",
        "    # 1. CDF: Cumulative probability P(Z <= z)\n",
        "  CDF = (stats.norm.cdf(Z, loc=mu, scale=standDev))\n",
        "    # 2. Cumulative from mean: P(0 <= Z <= z) = CDF - 0.5\n",
        "  cumulative_prob_from_mean = abs((CDF * 0.5) - 0.5)\n",
        "    # 3. Complementary CDF: P(Z > z) = 1 - CDF\n",
        "  complementary_CDF = 1 - CDF\n",
        "    # TODO: Append results to list\n",
        "  results.append((Z, CDF, cumulative_prob_from_mean, complementary_CDF))\n",
        "\n",
        "# for Z, CDF, cumulative_prob_from_mean, complementary_CDF in results:\n",
        "  print(f\"Z = {Z}:\")\n",
        "  print(f\"Cumulative Probability (CDF) = {CDF}\")\n",
        "  print(f\"Cumulative Probability from Mean = {cumulative_prob_from_mean}\")\n",
        "  print(f\"Complementary Cumulative Probability (1 - CDF) = {complementary_CDF}\\n\")"
      ]
    },
    {
      "cell_type": "markdown",
      "id": "c4885954",
      "metadata": {
        "id": "c4885954"
      },
      "source": [
        "## Step 7: Bonus - p-value Calculation\n",
        "\n",
        "**Challenge:** Calculate the p-value for Z = 5.9\n",
        "\n",
        "**p-value definition:** The probability of obtaining a result at least as extreme as the observed result, assuming the null hypothesis is true. For a Z-score, this is typically P(Z > |z|) for a two-tailed test or P(Z > z) for a one-tailed test."
      ]
    },
    {
      "cell_type": "code",
      "source": [
        "# Calculate p-value for Z = 5.9\n",
        "# TODO: Calculate the CDF for Z = 5.9\n",
        "# This gives us the probability P(Z <= 5.9)\n",
        "# Note: This is an extremely small probability, indicating a very rare event\n",
        "# Your code here:"
      ],
      "metadata": {
        "id": "d2kCUZn0-Jie"
      },
      "id": "d2kCUZn0-Jie",
      "execution_count": 13,
      "outputs": []
    },
    {
      "cell_type": "code",
      "execution_count": 14,
      "id": "8c4fbae2",
      "metadata": {
        "id": "8c4fbae2",
        "colab": {
          "base_uri": "https://localhost:8080/"
        },
        "outputId": "d859e2d8-dd1e-49f4-cd0e-67882f086041"
      },
      "outputs": [
        {
          "output_type": "stream",
          "name": "stdout",
          "text": [
            "p-value/Cumulative Probability (CDF for Z=5.9): 0.9999999981824922\n",
            "Complementary Probability from Mean (CDF - 0.5 for Z=5.9): 9.087539054597471e-10\n",
            "Complementary Cumulative Probability (1 - CDF for Z=5.9): 1.8175078109194942e-09\n"
          ]
        }
      ],
      "source": [
        "mu = 0\n",
        "standDev = 1\n",
        "p_val = (stats.norm.cdf(5.9, loc=mu, scale=standDev))\n",
        "\n",
        "print(\"p-value/Cumulative Probability (CDF for Z=5.9):\", (p_val))\n",
        "print(\"Complementary Probability from Mean (CDF - 0.5 for Z=5.9):\", abs((p_val * 0.5) - 0.5))\n",
        "print(\"Complementary Cumulative Probability (1 - CDF for Z=5.9):\", (1-(p_val)))"
      ]
    },
    {
      "cell_type": "code",
      "metadata": {
        "id": "obJmd9vBTjoB"
      },
      "source": [
        "# Github scripts WIP\n",
        "\n",
        "# Initialize a git repository if one doesn't exist\n",
        "# !git init\n",
        "\n",
        "# Add the remote origin\n",
        "# !git remote add origin https://github.com/Klinjin/Au25_Phys434_Data_Analysis_Lab.git\n",
        "\n",
        "# Set your name and email (required for commits)\n",
        "# !git config --global user.name \"Alex Feucht\"\n",
        "# !git config --global user.email \"amf599@uw.edu\"\n",
        "\n",
        "# Verify the configuration -- should see your account on the list\n",
        "# !git config --global --list\n",
        "\n",
        "# Store credentials permanently (macOS)\n",
        "# !git config --global credential.helper osxkeychain\n",
        "\n",
        "# Store credentials permanently (Windows)\n",
        "# !git config --global credential.helper manager-core\n",
        "\n",
        "# Checkout Script\n",
        "\n",
        "# !git checkout -b amf599-cyber/PHYS434\n",
        "\n",
        "# !git add .\n",
        "# !git commit -m \"Complete Lab 1 exercises\"\n",
        "# !git push origin amf599-cyber/PHYS434\n",
        "\n",
        "# Remove the existing remote origin\n",
        "# !git remote remove origin\n",
        "\n",
        "# Add the new remote origin (replace <your_forked_repo_url> with your actual forked repository URL)\n",
        "# !git remote add origin https://github.com/amf599-cyber/PHYS434\n",
        "\n",
        "# Verify the remote origin has been updated\n",
        "# !git remote -v"
      ],
      "execution_count": 15,
      "outputs": [],
      "id": "obJmd9vBTjoB"
    },
    {
      "cell_type": "markdown",
      "id": "7a4a8cfd",
      "metadata": {
        "id": "7a4a8cfd"
      },
      "source": [
        "## Summary and Reflection Questions\n",
        "\n",
        "**After completing this lab, you should be able to:**\n",
        "1. Load and manipulate datasets using pandas\n",
        "2. Create comparative histograms for data analysis\n",
        "3. Calculate basic and conditional probabilities\n",
        "4. Apply Bayes' theorem to real-world problems\n",
        "5. Understand different types of probabilities in normal distributions\n",
        "\n",
        "**Discussion Questions:**\n",
        "1. Which features show the clearest separation between noise and real pulsars?\n",
        "2. What does the conditional probability P(A|B) tell us about the relationship between pulsar classification and the mean integrated profile?\n",
        "3. How do the three types of Z-score probabilities relate to different research questions?\n",
        "4. What would you conclude about the practical significance of a Z-score of 5.9?\n",
        "\n",
        "**Next Steps:**\n",
        "- Commit your completed notebook to your GitHub repository\n",
        "- Compare your results with your lab partner\n",
        "- Prepare to discuss your findings in the next class"
      ]
    },
    {
      "cell_type": "markdown",
      "source": [
        "**Discussion Question Responses:**\n",
        "  1. The clearest separation between the two is seen in the skewness histogram, where the pulsar and noise data form nearly orthagonal spikes in the data and clearly do not occupy the same parts of the graph as one another, except a bit around the bottom left where there is some overlap.\n",
        "\n",
        "  2. P(A | B) = P(A ∩ B) / P(B) =  0.09157447759526204\n",
        "  This gives us the relationship between the probability that an object is a pulsar, multiplied by the probability that the object has an integrated mean profile value less than 80, all divided by the probability that the integrated mean value is less than 80. More concisely, the probability an object is a pulsar within that range of values. Since we are dealing with a normalized value between 0 and 1, with 1 being 100%, a value of 0.09157... equates to roughly a 9.157...% slice of the total range of data being sampled here. Given the confirmed counts of pulsars vs. noise, (1639 vs. 16,259, ~10% of all values are confirmed pulsars), this means that many of the pulsar detections are occuring below 80 in the mean integrated profile. This would be an easy way to quickly sort through a lot of the noise by checking many different ranges of mean integrated values in order to directly pinpoint a place to start filtering out where pulsars were more likely to be found, saving human annotation time in searching for real pulsars from the candidates in the whole data set.\n",
        "\n",
        "  3. The three different probabilities correspond to the different tail tests done to a cumulative density function, testing the area under the curve given the inputs for standard deviation, mean, and Z value. In the pure Cumulative probability P(Z <= z) test, we are looking for the accumulated probability that some value is found closer to the lower bound of the samples than the given Z value or above said value, so a number very close to 1.0 means that most values will be less than this value. Cumulative from mean: P(0 <= Z <= z) = (CDF - 0.5) subtracts half of the bounds of the normalized function, so in essense this test is seeing how many values are closer to the mean from this value, on one side of the distribution curve. Complementary CDF: P(Z > z) = (1 - CDF) is basically the opposite of the first CDF test, being the whole distribution (1.0) minus the CDF, which would give how many values are proportionately found outside of that Z value, on the tails of the distribution. A value very close to 1 for the CDF would have closer and closer to 0 complementary CDF and vice versa, so they are inversely proportionate in this normalized distribution. The less likely some data is to be at a certain Z value, the more data is found closer to the mean than it.\n",
        "\n",
        "  4. A Z-score of 5.9 gives a CDF of 0.9999999981824922, and a complementary CDF very close to 0.0. This means that for that value, most other values would be closer to the mean/lower in the cumulative bound than it, indicating a very statistically unlikely event that could be very significant, or some errata in the data that might need to be truncated if it was a total outlier. It would be worth investigating why something like that showed up, but given just how rare it is, (around one in a billion odds at ~1.8e9 parts out of 1), there's a high likelihood it is far from the sort of results the experiment or observation were controlled to detect."
      ],
      "metadata": {
        "id": "EoShVgIbiNvJ"
      },
      "id": "EoShVgIbiNvJ"
    }
  ],
  "metadata": {
    "kernelspec": {
      "display_name": "phys",
      "language": "python",
      "name": "python3"
    },
    "language_info": {
      "codemirror_mode": {
        "name": "ipython",
        "version": 3
      },
      "file_extension": ".py",
      "mimetype": "text/x-python",
      "name": "python",
      "nbconvert_exporter": "python",
      "pygments_lexer": "ipython3",
      "version": "3.12.0"
    },
    "colab": {
      "provenance": [],
      "include_colab_link": true
    }
  },
  "nbformat": 4,
  "nbformat_minor": 5
}