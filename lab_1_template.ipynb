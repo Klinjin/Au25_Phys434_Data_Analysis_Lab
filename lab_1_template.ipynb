{
 "cells": [
  {
   "cell_type": "markdown",
   "id": "353b928b",
   "metadata": {},
   "source": [
    "# Lab 1: Data Analysis with HTRU2 Dataset\n",
    "\n",
    "**Author:** Linda Jin [YOURNAME]\n",
    "\n",
    "**Course:** Physics 434 - Data Analysis Lab  \n",
    "**Objective:** Learn statistical analysis, probability calculations, and data visualization using real pulsar survey data."
   ]
  },
  {
   "cell_type": "markdown",
   "id": "1ba63461",
   "metadata": {},
   "source": [
    "## Overview\n",
    "\n",
    "In this laboratory, we will:\n",
    "1. Set up git & GitHub for version control\n",
    "2. Analyze pulsar candidates from the High Time Resolution Universe Survey (HTRU2) dataset\n",
    "3. Practice statistical analysis and probability calculations\n",
    "4. Create data visualizations and interpret results\n",
    "\n",
    "**Key Learning Outcomes:**\n",
    "- Understanding of statistical distributions\n",
    "- Bayes' theorem application\n",
    "- Data visualization with histograms\n",
    "- Probability calculations with real data"
   ]
  },
  {
   "cell_type": "markdown",
   "id": "49620ef8",
   "metadata": {},
   "source": [
    "## Step 1: Import Required Libraries\n",
    "\n",
    "Import the necessary Python libraries for data analysis and visualization."
   ]
  },
  {
   "cell_type": "markdown",
   "id": "a5ffc5a4",
   "metadata": {},
   "source": [
    "**TODO:** Import pandas, matplotlib.pyplot, numpy, and scipy.stats"
   ]
  },
  {
   "cell_type": "markdown",
   "id": "5a4c21b7",
   "metadata": {},
   "source": [
    "`COLAB` determines whether this notebook is running on Google Colab. If you're running locally, make sure to download all data in this work directory."
   ]
  },
  {
   "cell_type": "code",
   "execution_count": 1,
   "id": "82eb1216",
   "metadata": {},
   "outputs": [],
   "source": [
    "COLAB = 'google.colab' in str(get_ipython())\n",
    "\n",
    "if COLAB:\n",
    "# clone github repo\n",
    "    from google.colab import drive\n",
    "    drive.mount('/content/drive')\n",
    "    %cd /content/drive\n",
    "    !git clone --depth 1 [GITHUBLINK]\n",
    "    %cd GITHUBNAME/"
   ]
  },
  {
   "cell_type": "code",
   "execution_count": null,
   "id": "91ba7889",
   "metadata": {},
   "outputs": [],
   "source": [
    "# TODO: Import the required libraries\n",
    "# Hint: You'll need pandas, matplotlib.pyplot, numpy, and scipy.stats\n",
    "\n",
    "# Your imports here:"
   ]
  },
  {
   "cell_type": "markdown",
   "id": "f595f756",
   "metadata": {
    "vscode": {
     "languageId": "plaintext"
    }
   },
   "source": [
    "## Step 2: Load and Explore the Dataset\n",
    "\n",
    "The HTRU2 dataset contains 17,898 pulsar candidates with 8 features each. The last column indicates the class:\n",
    "- **Class 0**: RFI/Noise (fake signals)\n",
    "- **Class 1**: Real pulsar signals\n",
    "\n",
    "**Features (first 4 are from integrated pulse profile):**\n",
    "1. Mean of the integrated profile\n",
    "2. Standard deviation of the integrated profile  \n",
    "3. Excess kurtosis of the integrated profile\n",
    "4. Skewness of the integrated profile\n",
    "5-8. Mean, std dev, excess kurtosis, and skewness of the DM-SNR curve"
   ]
  },
  {
   "cell_type": "markdown",
   "id": "0fee5a06",
   "metadata": {},
   "source": [
    "**TODO:** Load the dataset and separate it into two classes"
   ]
  },
  {
   "cell_type": "code",
   "execution_count": null,
   "id": "3ddb9c89",
   "metadata": {},
   "outputs": [],
   "source": [
    "# Load the HTRU2 dataset\n",
    "# TODO: Read the CSV file using pandas\n",
    "\n",
    "# df = pd.read_csv(...)\n",
    "\n",
    "# Separate the data into two classes based on the last column\n",
    "# TODO: Create class_0_data (RFI/Noise) and class_1_data (Real Pulsar)\n",
    "# Hint: Use boolean indexing with df.iloc[:, -1]\n",
    "\n",
    "# pulsar_data = \n",
    "# noise_data = \n",
    "\n",
    "# Print the number of samples in each class\n",
    "# TODO: Print the lengths of both classes\n",
    "\n",
    "# Your code here:"
   ]
  },
  {
   "cell_type": "markdown",
   "id": "32de45e4",
   "metadata": {},
   "source": [
    "## Step 3: Feature Analysis and Visualization\n",
    "\n",
    "**Objective:** Compare the distribution of features between RFI/noise and real pulsar signals.\n",
    "\n",
    "**Requirements:**\n",
    "- Create histograms for each feature (focus on the first 4 features from integrated pulse profile)\n",
    "- Plot both classes on the same graph with different colors and line styles\n",
    "- Normalize histograms so the area equals 1 (use `density=True`)\n",
    "- Use the same bin ranges and widths for fair comparison\n",
    "- Include mean and standard deviation in legends\n",
    "- Proper axis labels and titles"
   ]
  },
  {
   "cell_type": "markdown",
   "id": "e243f65b",
   "metadata": {},
   "source": [
    "**TODO:** Create histograms comparing the two classes for each feature"
   ]
  },
  {
   "cell_type": "code",
   "execution_count": null,
   "id": "84c2f0f5",
   "metadata": {},
   "outputs": [],
   "source": [
    "# Create histograms for the first 4 features (integrated pulse profile features)\n",
    "# TODO: Loop through the first 4 columns of the dataset\n",
    "\n",
    "# for i, feature_name in enumerate(df.columns): noise_feature = noise_data[feature_name]\n",
    "#     noise_feature = noise_data[feature_name]\n",
    "#     pulsar_feature = pulsar_data[feature_name]\n",
    "#\n",
    "#     # Create figure\n",
    "#     fig, ax = plt.subplots(figsize=(10, 6))\n",
    "#     ax.hist(noise_feature ...\n",
    "#     ax.hist(pulsar_feature ...\n",
    "#     ax.set_title(f\"Histogram of {feature_name}\")\n",
    "#     ax.set_xlabel(\"Value\")\n",
    "#     ax.set_ylabel(\"Frequency\")\n",
    "#     ax.legend()\n",
    "#     plt.show()\n",
    "\n",
    "#     pass  # Remove this line when you add your code\n",
    "\n",
    "# Your code here:"
   ]
  },
  {
   "cell_type": "markdown",
   "id": "d98fce6a",
   "metadata": {},
   "source": [
    "## Step 4: Probability Calculations\n",
    "\n",
    "**Objective:** Calculate basic probabilities and apply Bayes' theorem.\n",
    "\n",
    "**Define Events:**\n",
    "- **Event A:** An observation is a pulsar candidate (class = 1)\n",
    "- **Event B:** Mean of the integrated profile < 80\n",
    "\n",
    "**Calculate the following probabilities:**\n",
    "1. P(A) - Probability that a randomly chosen observation is a real pulsar\n",
    "2. P(B) - Probability that mean of integrated profile < 80\n",
    "3. P(A ∩ B) - Probability that both conditions are satisfied"
   ]
  },
  {
   "cell_type": "markdown",
   "id": "0166bbdc",
   "metadata": {},
   "source": [
    "**TODO:** Calculate the three basic probabilities"
   ]
  },
  {
   "cell_type": "code",
   "execution_count": null,
   "id": "7b3cd167",
   "metadata": {},
   "outputs": [],
   "source": [
    "# Calculate P(A): Probability that an observation is a pulsar candidate\n",
    "# TODO: Calculate the ratio of class 1 samples to total samples\n",
    "# pulsar_probability = \n",
    "\n",
    "print(\"P(A) = \", pulsar_probability)\n",
    "\n",
    "# Calculate P(B): Probability that mean of integrated profile < 80\n",
    "# TODO: Count how many samples have the first feature < 80\n",
    "# Hint: Use boolean indexing on df.iloc[:, 0] < 80\n",
    "# count_less_than_80 = \n",
    "# prob_less_than_80 = \n",
    "\n",
    "print(\"P(B) = \", prob_less_than_80)\n",
    "\n",
    "# Calculate P(A ∩ B): Probability that both conditions are satisfied\n",
    "# TODO: Count samples that are both class 1 AND have first feature < 80\n",
    "# Hint: Filter class_1_data where first column < 80\n",
    "# prob_both_conditions = \n",
    "\n",
    "print(\"P(A ∩ B) = \", prob_both_conditions)\n",
    "\n",
    "# Your code here:"
   ]
  },
  {
   "cell_type": "markdown",
   "id": "754e6ebf",
   "metadata": {},
   "source": [
    "## Step 5: Conditional Probabilities (Bayes' Theorem)\n",
    "\n",
    "**Objective:** Calculate conditional probabilities using Bayes' theorem.\n",
    "\n",
    "**Bayes' Theorem Formula:**\n",
    "$$P(A|B) = \\frac{P(A \\cap B)}{P(B)}$$\n",
    "\n",
    "**Calculate:**\n",
    "1. **P(A|B)**: Given that mean of integrated profile < 80, what's the probability it's a real pulsar?\n",
    "2. **P(B|A)**: Given that it's a real pulsar, what's the probability that mean < 80?"
   ]
  },
  {
   "cell_type": "markdown",
   "id": "6eab444a",
   "metadata": {},
   "source": [
    "**TODO:** Apply Bayes' theorem to calculate conditional probabilities"
   ]
  },
  {
   "cell_type": "code",
   "execution_count": null,
   "id": "26fd1ea4",
   "metadata": {},
   "outputs": [],
   "source": [
    "# Apply Bayes' theorem to calculate conditional probabilities\n",
    "\n",
    "# TODO: Calculate P(A|B) = P(A ∩ B) / P(B)\n",
    "# This answers: \"Given mean < 80, what's the probability it's a real pulsar?\"\n",
    "# conditional_prob_A_given_B = \n",
    "\n",
    "print('P(A | B) = P(A ∩ B) / P(B) = ', conditional_prob_A_given_B)\n",
    "\n",
    "# TODO: Calculate P(B|A) = P(A ∩ B) / P(A) \n",
    "# This answers: \"Given it's a real pulsar, what's the probability that mean < 80?\"\n",
    "# conditional_prob_B_given_A = \n",
    "\n",
    "print('P(B | A) = P(A ∩ B) / P(A) = ', conditional_prob_B_given_A)\n",
    "\n",
    "# Your code here:"
   ]
  },
  {
   "cell_type": "markdown",
   "id": "218e48c8",
   "metadata": {},
   "source": [
    "## Step 6: Standard Normal Distribution Analysis\n",
    "\n",
    "**Objective:** Understand different types of probabilities for the standard normal distribution.\n",
    "\n",
    "**Background:** \n",
    "The standard normal distribution (Z) has mean = 0 and standard deviation = 1. \n",
    "For any Z-score, we can calculate:\n",
    "1. **Cumulative probability (CDF)**: P(Z ≤ z) - probability below z\n",
    "2. **Cumulative from mean**: P(0 ≤ Z ≤ z) - probability between mean and z  \n",
    "3. **Complementary cumulative**: P(Z > z) - probability above z\n",
    "\n",
    "**Formula:** If X ~ N(μ, σ²), then Z = (X - μ)/σ"
   ]
  },
  {
   "cell_type": "markdown",
   "id": "4afb6c87",
   "metadata": {},
   "source": [
    "**TODO:** Calculate probabilities for different Z-values"
   ]
  },
  {
   "cell_type": "code",
   "execution_count": null,
   "id": "6933f483",
   "metadata": {},
   "outputs": [],
   "source": [
    "# Calculate different types of probabilities for Z-values\n",
    "# TODO: Import norm from scipy.stats if not already imported\n",
    "# from scipy.stats import norm\n",
    "\n",
    "# Define Z-values to analyze\n",
    "Z_values = [1, 3, 5]\n",
    "\n",
    "# TODO: Create an empty list to store results\n",
    "# results = []\n",
    "\n",
    "# TODO: Loop through each Z value and calculate:\n",
    "for Z in Z_values:\n",
    "    # 1. CDF: Cumulative probability P(Z <= z)\n",
    "    # CDF = \n",
    "    \n",
    "    # 2. Cumulative from mean: P(0 <= Z <= z) = CDF - 0.5\n",
    "    # cumulative_prob_from_mean = \n",
    "    \n",
    "    # 3. Complementary CDF: P(Z > z) = 1 - CDF  \n",
    "    # complementary_CDF = \n",
    "    \n",
    "    # TODO: Append results to list\n",
    "    # results.append((Z, CDF, cumulative_prob_from_mean, complementary_CDF))\n",
    "    \n",
    "    pass  # Remove this when you add your code\n",
    "\n",
    "# TODO: Print results in a formatted way\n",
    "# for Z, CDF, cumulative_prob_from_mean, complementary_CDF in results:\n",
    "#     print(f\"Z = {Z}:\")\n",
    "#     print(f\"Cumulative Probability (CDF) = {CDF}\")\n",
    "#     print(f\"Cumulative Probability from Mean = {cumulative_prob_from_mean}\")\n",
    "#     print(f\"Complementary Cumulative Probability (1 - CDF) = {complementary_CDF}\\n\")\n",
    "\n",
    "# Your code here:"
   ]
  },
  {
   "cell_type": "markdown",
   "id": "c4885954",
   "metadata": {},
   "source": [
    "## Step 7: Bonus - p-value Calculation\n",
    "\n",
    "**Challenge:** Calculate the p-value for Z = 5.9\n",
    "\n",
    "**p-value definition:** The probability of obtaining a result at least as extreme as the observed result, assuming the null hypothesis is true. For a Z-score, this is typically P(Z > |z|) for a two-tailed test or P(Z > z) for a one-tailed test."
   ]
  },
  {
   "cell_type": "code",
   "execution_count": null,
   "id": "8c4fbae2",
   "metadata": {},
   "outputs": [],
   "source": [
    "# Calculate p-value for Z = 5.9\n",
    "# TODO: Calculate the CDF for Z = 5.9\n",
    "# This gives us the probability P(Z <= 5.9)\n",
    "\n",
    "# p_val = \n",
    "\n",
    "print(\"p-value (CDF for Z=5.9):\", p_val)\n",
    "\n",
    "# Note: This is an extremely small probability, indicating a very rare event\n",
    "# Your code here:"
   ]
  },
  {
   "cell_type": "markdown",
   "id": "7a4a8cfd",
   "metadata": {},
   "source": [
    "## Summary and Reflection Questions\n",
    "\n",
    "**After completing this lab, you should be able to:**\n",
    "1. Load and manipulate datasets using pandas\n",
    "2. Create comparative histograms for data analysis\n",
    "3. Calculate basic and conditional probabilities\n",
    "4. Apply Bayes' theorem to real-world problems\n",
    "5. Understand different types of probabilities in normal distributions\n",
    "\n",
    "**Discussion Questions:**\n",
    "1. Which features show the clearest separation between noise and real pulsars?\n",
    "2. What does the conditional probability P(A|B) tell us about the relationship between pulsar classification and the mean integrated profile?\n",
    "3. How do the three types of Z-score probabilities relate to different research questions?\n",
    "4. What would you conclude about the practical significance of a Z-score of 5.9?\n",
    "\n",
    "**Next Steps:**\n",
    "- Commit your completed notebook to your GitHub repository\n",
    "- Compare your results with your lab partner\n",
    "- Prepare to discuss your findings in the next class"
   ]
  }
 ],
 "metadata": {
  "kernelspec": {
   "display_name": "phys",
   "language": "python",
   "name": "python3"
  },
  "language_info": {
   "codemirror_mode": {
    "name": "ipython",
    "version": 3
   },
   "file_extension": ".py",
   "mimetype": "text/x-python",
   "name": "python",
   "nbconvert_exporter": "python",
   "pygments_lexer": "ipython3",
   "version": "3.12.0"
  }
 },
 "nbformat": 4,
 "nbformat_minor": 5
}
